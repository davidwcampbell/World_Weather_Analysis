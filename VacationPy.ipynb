{
 "cells": [
  {
   "cell_type": "code",
   "execution_count": 6,
   "metadata": {},
   "outputs": [],
   "source": [
    "# Import the dependencies.\n",
    "import pandas as pd\n",
    "import gmaps\n",
    "import requests\n",
    "import gmaps.datasets\n",
    "# Import the API key.\n",
    "from config import g_key"
   ]
  },
  {
   "cell_type": "code",
   "execution_count": 7,
   "metadata": {},
   "outputs": [
    {
     "data": {
      "text/html": [
       "<div>\n",
       "<style scoped>\n",
       "    .dataframe tbody tr th:only-of-type {\n",
       "        vertical-align: middle;\n",
       "    }\n",
       "\n",
       "    .dataframe tbody tr th {\n",
       "        vertical-align: top;\n",
       "    }\n",
       "\n",
       "    .dataframe thead th {\n",
       "        text-align: right;\n",
       "    }\n",
       "</style>\n",
       "<table border=\"1\" class=\"dataframe\">\n",
       "  <thead>\n",
       "    <tr style=\"text-align: right;\">\n",
       "      <th></th>\n",
       "      <th>City_ID</th>\n",
       "      <th>City</th>\n",
       "      <th>Country</th>\n",
       "      <th>Date</th>\n",
       "      <th>Lat</th>\n",
       "      <th>Lng</th>\n",
       "      <th>Max Temp</th>\n",
       "      <th>Humidity</th>\n",
       "      <th>Cloudiness</th>\n",
       "      <th>Wind Speed</th>\n",
       "    </tr>\n",
       "  </thead>\n",
       "  <tbody>\n",
       "    <tr>\n",
       "      <th>0</th>\n",
       "      <td>0</td>\n",
       "      <td>Cape Town</td>\n",
       "      <td>ZA</td>\n",
       "      <td>2020-05-08 22:53:50</td>\n",
       "      <td>-33.93</td>\n",
       "      <td>18.42</td>\n",
       "      <td>63.00</td>\n",
       "      <td>88</td>\n",
       "      <td>0</td>\n",
       "      <td>10.29</td>\n",
       "    </tr>\n",
       "    <tr>\n",
       "      <th>1</th>\n",
       "      <td>1</td>\n",
       "      <td>Qaanaaq</td>\n",
       "      <td>GL</td>\n",
       "      <td>2020-05-08 22:54:05</td>\n",
       "      <td>77.48</td>\n",
       "      <td>-69.36</td>\n",
       "      <td>11.97</td>\n",
       "      <td>83</td>\n",
       "      <td>28</td>\n",
       "      <td>6.51</td>\n",
       "    </tr>\n",
       "    <tr>\n",
       "      <th>2</th>\n",
       "      <td>2</td>\n",
       "      <td>Namibe</td>\n",
       "      <td>AO</td>\n",
       "      <td>2020-05-08 22:54:24</td>\n",
       "      <td>-15.20</td>\n",
       "      <td>12.15</td>\n",
       "      <td>80.64</td>\n",
       "      <td>49</td>\n",
       "      <td>0</td>\n",
       "      <td>3.02</td>\n",
       "    </tr>\n",
       "    <tr>\n",
       "      <th>3</th>\n",
       "      <td>3</td>\n",
       "      <td>Arraial Do Cabo</td>\n",
       "      <td>BR</td>\n",
       "      <td>2020-05-08 22:54:04</td>\n",
       "      <td>-22.97</td>\n",
       "      <td>-42.03</td>\n",
       "      <td>71.56</td>\n",
       "      <td>60</td>\n",
       "      <td>33</td>\n",
       "      <td>8.70</td>\n",
       "    </tr>\n",
       "    <tr>\n",
       "      <th>4</th>\n",
       "      <td>4</td>\n",
       "      <td>Iqaluit</td>\n",
       "      <td>CA</td>\n",
       "      <td>2020-05-08 22:53:59</td>\n",
       "      <td>63.75</td>\n",
       "      <td>-68.51</td>\n",
       "      <td>33.80</td>\n",
       "      <td>50</td>\n",
       "      <td>75</td>\n",
       "      <td>12.75</td>\n",
       "    </tr>\n",
       "  </tbody>\n",
       "</table>\n",
       "</div>"
      ],
      "text/plain": [
       "   City_ID             City Country                 Date    Lat    Lng  \\\n",
       "0        0        Cape Town      ZA  2020-05-08 22:53:50 -33.93  18.42   \n",
       "1        1          Qaanaaq      GL  2020-05-08 22:54:05  77.48 -69.36   \n",
       "2        2           Namibe      AO  2020-05-08 22:54:24 -15.20  12.15   \n",
       "3        3  Arraial Do Cabo      BR  2020-05-08 22:54:04 -22.97 -42.03   \n",
       "4        4          Iqaluit      CA  2020-05-08 22:53:59  63.75 -68.51   \n",
       "\n",
       "   Max Temp  Humidity  Cloudiness  Wind Speed  \n",
       "0     63.00        88           0       10.29  \n",
       "1     11.97        83          28        6.51  \n",
       "2     80.64        49           0        3.02  \n",
       "3     71.56        60          33        8.70  \n",
       "4     33.80        50          75       12.75  "
      ]
     },
     "execution_count": 7,
     "metadata": {},
     "output_type": "execute_result"
    }
   ],
   "source": [
    "# Store the CSV you saved created in part one into a DataFrame.\n",
    "city_data_df = pd.read_csv(\"weather_data/cities.csv\")\n",
    "city_data_df.head()"
   ]
  },
  {
   "cell_type": "code",
   "execution_count": 8,
   "metadata": {},
   "outputs": [
    {
     "data": {
      "text/plain": [
       "City_ID         int64\n",
       "City           object\n",
       "Country        object\n",
       "Date           object\n",
       "Lat           float64\n",
       "Lng           float64\n",
       "Max Temp      float64\n",
       "Humidity        int64\n",
       "Cloudiness      int64\n",
       "Wind Speed    float64\n",
       "dtype: object"
      ]
     },
     "execution_count": 8,
     "metadata": {},
     "output_type": "execute_result"
    }
   ],
   "source": [
    "# Get the data Types\n",
    "city_data_df.dtypes"
   ]
  },
  {
   "cell_type": "code",
   "execution_count": 9,
   "metadata": {},
   "outputs": [],
   "source": [
    "# Configure gmaps to use your Google API key.\n",
    "gmaps.configure(api_key=g_key)"
   ]
  },
  {
   "cell_type": "code",
   "execution_count": 11,
   "metadata": {},
   "outputs": [],
   "source": [
    "# Get the maximum temperature.\n",
    "max_temp = city_data_df[\"Max Temp\"]\n",
    "temps = []\n",
    "for temp in max_temp:\n",
    "    temps.append(max(temp, 0))"
   ]
  },
  {
   "cell_type": "code",
   "execution_count": 15,
   "metadata": {},
   "outputs": [
    {
     "data": {
      "application/vnd.jupyter.widget-view+json": {
       "model_id": "2b37e86ab43a4a2db8d803f776bdf814",
       "version_major": 2,
       "version_minor": 0
      },
      "text/plain": [
       "Figure(layout=FigureLayout(height='420px'))"
      ]
     },
     "metadata": {},
     "output_type": "display_data"
    }
   ],
   "source": [
    "# Heatmap of temperature\n",
    "# Get the latitude and longitude.\n",
    "locations = city_data_df[[\"Lat\", \"Lng\"]]\n",
    "# Get the maximum temperature.\n",
    "max_temp = city_data_df[\"Max Temp\"]\n",
    "# Assign the figure variable.\n",
    "fig = gmaps.figure(center=(30.0, 31.0), zoom_level=1.5)\n",
    "# Assign the heatmap variable.\n",
    "heat_layer = gmaps.heatmap_layer(locations, weights=temps, dissipating=False, max_intensity=300, point_radius=4)\n",
    "# Add the heatmap layer.\n",
    "fig.add_layer(heat_layer)\n",
    "# Call the figure to plot the data.\n",
    "fig"
   ]
  },
  {
   "cell_type": "code",
   "execution_count": 16,
   "metadata": {},
   "outputs": [
    {
     "data": {
      "application/vnd.jupyter.widget-view+json": {
       "model_id": "e269149e78774f32ae8fbb4375d05f47",
       "version_major": 2,
       "version_minor": 0
      },
      "text/plain": [
       "Figure(layout=FigureLayout(height='420px'))"
      ]
     },
     "metadata": {},
     "output_type": "display_data"
    }
   ],
   "source": [
    "# Heatmap of percent humidity\n",
    "locations = city_data_df[[\"Lat\", \"Lng\"]]\n",
    "humidity = city_data_df[\"Humidity\"]\n",
    "fig = gmaps.figure(center=(30.0, 31.0), zoom_level=1.5)\n",
    "heat_layer = gmaps.heatmap_layer(locations, weights=humidity, dissipating=False, max_intensity=300, point_radius=4)\n",
    "\n",
    "fig.add_layer(heat_layer)\n",
    "# Call the figure to plot the data.\n",
    "fig"
   ]
  },
  {
   "cell_type": "code",
   "execution_count": 17,
   "metadata": {},
   "outputs": [
    {
     "data": {
      "application/vnd.jupyter.widget-view+json": {
       "model_id": "fe0c061bbd5a41c9ac27180e8b6425bc",
       "version_major": 2,
       "version_minor": 0
      },
      "text/plain": [
       "Figure(layout=FigureLayout(height='420px'))"
      ]
     },
     "metadata": {},
     "output_type": "display_data"
    }
   ],
   "source": [
    "# Heatmap of percent cloudiness\n",
    "locations = city_data_df[[\"Lat\", \"Lng\"]]\n",
    "clouds = city_data_df[\"Cloudiness\"]\n",
    "fig = gmaps.figure(center=(30.0, 31.0), zoom_level=1.5)\n",
    "heat_layer = gmaps.heatmap_layer(locations, weights=clouds, dissipating=False, max_intensity=300, point_radius=4)\n",
    "\n",
    "fig.add_layer(heat_layer)\n",
    "# Call the figure to plot the data.\n",
    "fig"
   ]
  },
  {
   "cell_type": "code",
   "execution_count": 18,
   "metadata": {},
   "outputs": [
    {
     "data": {
      "application/vnd.jupyter.widget-view+json": {
       "model_id": "d69535c16ad94cf3b5a928c55ccc5242",
       "version_major": 2,
       "version_minor": 0
      },
      "text/plain": [
       "Figure(layout=FigureLayout(height='420px'))"
      ]
     },
     "metadata": {},
     "output_type": "display_data"
    }
   ],
   "source": [
    "# Heatmap of percent cloudiness\n",
    "locations = city_data_df[[\"Lat\", \"Lng\"]]\n",
    "wind = city_data_df[\"Wind Speed\"]\n",
    "fig = gmaps.figure(center=(30.0, 31.0), zoom_level=1.5)\n",
    "heat_layer = gmaps.heatmap_layer(locations, weights=wind, dissipating=False, max_intensity=300, point_radius=4)\n",
    "\n",
    "fig.add_layer(heat_layer)\n",
    "# Call the figure to plot the data.\n",
    "fig"
   ]
  },
  {
   "cell_type": "code",
   "execution_count": 19,
   "metadata": {},
   "outputs": [
    {
     "name": "stdout",
     "output_type": "stream",
     "text": [
      "What is the minimum temperature you would like for your trip? 75\n",
      "What is the maximum temperature you would like for your trip? 90\n"
     ]
    }
   ],
   "source": [
    "# Ask the customer to add a minimum and maximum temperature value.\n",
    "min_temp = float(input(\"What is the minimum temperature you would like for your trip? \"))\n",
    "max_temp = float(input(\"What is the maximum temperature you would like for your trip? \"))"
   ]
  },
  {
   "cell_type": "code",
   "execution_count": 20,
   "metadata": {},
   "outputs": [
    {
     "data": {
      "text/html": [
       "<div>\n",
       "<style scoped>\n",
       "    .dataframe tbody tr th:only-of-type {\n",
       "        vertical-align: middle;\n",
       "    }\n",
       "\n",
       "    .dataframe tbody tr th {\n",
       "        vertical-align: top;\n",
       "    }\n",
       "\n",
       "    .dataframe thead th {\n",
       "        text-align: right;\n",
       "    }\n",
       "</style>\n",
       "<table border=\"1\" class=\"dataframe\">\n",
       "  <thead>\n",
       "    <tr style=\"text-align: right;\">\n",
       "      <th></th>\n",
       "      <th>City_ID</th>\n",
       "      <th>City</th>\n",
       "      <th>Country</th>\n",
       "      <th>Date</th>\n",
       "      <th>Lat</th>\n",
       "      <th>Lng</th>\n",
       "      <th>Max Temp</th>\n",
       "      <th>Humidity</th>\n",
       "      <th>Cloudiness</th>\n",
       "      <th>Wind Speed</th>\n",
       "    </tr>\n",
       "  </thead>\n",
       "  <tbody>\n",
       "    <tr>\n",
       "      <th>2</th>\n",
       "      <td>2</td>\n",
       "      <td>Namibe</td>\n",
       "      <td>AO</td>\n",
       "      <td>2020-05-08 22:54:24</td>\n",
       "      <td>-15.20</td>\n",
       "      <td>12.15</td>\n",
       "      <td>80.64</td>\n",
       "      <td>49</td>\n",
       "      <td>0</td>\n",
       "      <td>3.02</td>\n",
       "    </tr>\n",
       "    <tr>\n",
       "      <th>7</th>\n",
       "      <td>7</td>\n",
       "      <td>Cienfuegos</td>\n",
       "      <td>CU</td>\n",
       "      <td>2020-05-08 23:02:16</td>\n",
       "      <td>22.15</td>\n",
       "      <td>-80.44</td>\n",
       "      <td>87.80</td>\n",
       "      <td>55</td>\n",
       "      <td>89</td>\n",
       "      <td>13.87</td>\n",
       "    </tr>\n",
       "    <tr>\n",
       "      <th>9</th>\n",
       "      <td>9</td>\n",
       "      <td>Rikitea</td>\n",
       "      <td>PF</td>\n",
       "      <td>2020-05-08 22:49:50</td>\n",
       "      <td>-23.12</td>\n",
       "      <td>-134.97</td>\n",
       "      <td>75.90</td>\n",
       "      <td>69</td>\n",
       "      <td>25</td>\n",
       "      <td>4.52</td>\n",
       "    </tr>\n",
       "    <tr>\n",
       "      <th>15</th>\n",
       "      <td>15</td>\n",
       "      <td>Hilo</td>\n",
       "      <td>US</td>\n",
       "      <td>2020-05-08 22:50:26</td>\n",
       "      <td>19.73</td>\n",
       "      <td>-155.09</td>\n",
       "      <td>84.20</td>\n",
       "      <td>54</td>\n",
       "      <td>20</td>\n",
       "      <td>9.17</td>\n",
       "    </tr>\n",
       "    <tr>\n",
       "      <th>17</th>\n",
       "      <td>17</td>\n",
       "      <td>Puerto Colombia</td>\n",
       "      <td>CO</td>\n",
       "      <td>2020-05-08 23:02:17</td>\n",
       "      <td>10.99</td>\n",
       "      <td>-74.95</td>\n",
       "      <td>86.00</td>\n",
       "      <td>74</td>\n",
       "      <td>75</td>\n",
       "      <td>10.29</td>\n",
       "    </tr>\n",
       "    <tr>\n",
       "      <th>26</th>\n",
       "      <td>26</td>\n",
       "      <td>Kapaa</td>\n",
       "      <td>US</td>\n",
       "      <td>2020-05-08 22:53:49</td>\n",
       "      <td>22.08</td>\n",
       "      <td>-159.32</td>\n",
       "      <td>77.00</td>\n",
       "      <td>65</td>\n",
       "      <td>75</td>\n",
       "      <td>17.22</td>\n",
       "    </tr>\n",
       "    <tr>\n",
       "      <th>30</th>\n",
       "      <td>30</td>\n",
       "      <td>Hithadhoo</td>\n",
       "      <td>MV</td>\n",
       "      <td>2020-05-08 22:53:57</td>\n",
       "      <td>-0.60</td>\n",
       "      <td>73.08</td>\n",
       "      <td>84.74</td>\n",
       "      <td>78</td>\n",
       "      <td>84</td>\n",
       "      <td>16.89</td>\n",
       "    </tr>\n",
       "    <tr>\n",
       "      <th>33</th>\n",
       "      <td>33</td>\n",
       "      <td>Sao Raimundo Nonato</td>\n",
       "      <td>BR</td>\n",
       "      <td>2020-05-08 22:59:00</td>\n",
       "      <td>-9.02</td>\n",
       "      <td>-42.70</td>\n",
       "      <td>77.74</td>\n",
       "      <td>72</td>\n",
       "      <td>100</td>\n",
       "      <td>1.48</td>\n",
       "    </tr>\n",
       "    <tr>\n",
       "      <th>36</th>\n",
       "      <td>36</td>\n",
       "      <td>Salinopolis</td>\n",
       "      <td>BR</td>\n",
       "      <td>2020-05-08 23:02:19</td>\n",
       "      <td>-0.61</td>\n",
       "      <td>-47.36</td>\n",
       "      <td>79.47</td>\n",
       "      <td>88</td>\n",
       "      <td>99</td>\n",
       "      <td>8.48</td>\n",
       "    </tr>\n",
       "    <tr>\n",
       "      <th>37</th>\n",
       "      <td>37</td>\n",
       "      <td>Luanda</td>\n",
       "      <td>AO</td>\n",
       "      <td>2020-05-08 22:57:24</td>\n",
       "      <td>-8.84</td>\n",
       "      <td>13.23</td>\n",
       "      <td>80.60</td>\n",
       "      <td>88</td>\n",
       "      <td>75</td>\n",
       "      <td>4.36</td>\n",
       "    </tr>\n",
       "  </tbody>\n",
       "</table>\n",
       "</div>"
      ],
      "text/plain": [
       "    City_ID                 City Country                 Date    Lat     Lng  \\\n",
       "2         2               Namibe      AO  2020-05-08 22:54:24 -15.20   12.15   \n",
       "7         7           Cienfuegos      CU  2020-05-08 23:02:16  22.15  -80.44   \n",
       "9         9              Rikitea      PF  2020-05-08 22:49:50 -23.12 -134.97   \n",
       "15       15                 Hilo      US  2020-05-08 22:50:26  19.73 -155.09   \n",
       "17       17      Puerto Colombia      CO  2020-05-08 23:02:17  10.99  -74.95   \n",
       "26       26                Kapaa      US  2020-05-08 22:53:49  22.08 -159.32   \n",
       "30       30            Hithadhoo      MV  2020-05-08 22:53:57  -0.60   73.08   \n",
       "33       33  Sao Raimundo Nonato      BR  2020-05-08 22:59:00  -9.02  -42.70   \n",
       "36       36          Salinopolis      BR  2020-05-08 23:02:19  -0.61  -47.36   \n",
       "37       37               Luanda      AO  2020-05-08 22:57:24  -8.84   13.23   \n",
       "\n",
       "    Max Temp  Humidity  Cloudiness  Wind Speed  \n",
       "2      80.64        49           0        3.02  \n",
       "7      87.80        55          89       13.87  \n",
       "9      75.90        69          25        4.52  \n",
       "15     84.20        54          20        9.17  \n",
       "17     86.00        74          75       10.29  \n",
       "26     77.00        65          75       17.22  \n",
       "30     84.74        78          84       16.89  \n",
       "33     77.74        72         100        1.48  \n",
       "36     79.47        88          99        8.48  \n",
       "37     80.60        88          75        4.36  "
      ]
     },
     "execution_count": 20,
     "metadata": {},
     "output_type": "execute_result"
    }
   ],
   "source": [
    "# Filter the dataset to find the cities that fit the criteria.\n",
    "preferred_cities_df = city_data_df.loc[(city_data_df[\"Max Temp\"] <= max_temp) & \\\n",
    "                                       (city_data_df[\"Max Temp\"] >= min_temp)]\n",
    "preferred_cities_df.head(10)"
   ]
  },
  {
   "cell_type": "code",
   "execution_count": 21,
   "metadata": {},
   "outputs": [
    {
     "data": {
      "text/plain": [
       "City_ID       167\n",
       "City          167\n",
       "Country       167\n",
       "Date          167\n",
       "Lat           167\n",
       "Lng           167\n",
       "Max Temp      167\n",
       "Humidity      167\n",
       "Cloudiness    167\n",
       "Wind Speed    167\n",
       "dtype: int64"
      ]
     },
     "execution_count": 21,
     "metadata": {},
     "output_type": "execute_result"
    }
   ],
   "source": [
    "preferred_cities_df.count()"
   ]
  },
  {
   "cell_type": "code",
   "execution_count": null,
   "metadata": {},
   "outputs": [],
   "source": []
  }
 ],
 "metadata": {
  "kernelspec": {
   "display_name": "PythonData",
   "language": "python",
   "name": "pythondata"
  },
  "language_info": {
   "codemirror_mode": {
    "name": "ipython",
    "version": 3
   },
   "file_extension": ".py",
   "mimetype": "text/x-python",
   "name": "python",
   "nbconvert_exporter": "python",
   "pygments_lexer": "ipython3",
   "version": "3.7.7"
  }
 },
 "nbformat": 4,
 "nbformat_minor": 4
}
